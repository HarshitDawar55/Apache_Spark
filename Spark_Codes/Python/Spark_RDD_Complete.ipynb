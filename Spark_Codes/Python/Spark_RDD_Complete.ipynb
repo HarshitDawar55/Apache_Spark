{
 "cells": [
  {
   "cell_type": "markdown",
   "metadata": {},
   "source": [
    "# <font color = \"red\"> Spark Lab Assessment by <font color = \"brown\"> Mr. Harshit Dawar! "
   ]
  },
  {
   "cell_type": "code",
   "execution_count": 1,
   "metadata": {},
   "outputs": [],
   "source": [
    "# Importing SparkSession to create a session of Spark\n",
    "from pyspark.sql import SparkSession\n",
    "\n",
    "# Required to create SparkContext & Processing\n",
    "from pyspark import SparkConf, SparkContext, SQLContext"
   ]
  },
  {
   "cell_type": "code",
   "execution_count": 2,
   "metadata": {},
   "outputs": [],
   "source": [
    "# Creatings SparkContext & Session\n",
    "configuration = SparkConf().setAppName(\"Spark Lab!\").setMaster(\"local\")\n",
    "sc = SparkContext(conf = configuration)\n",
    "spark = SparkSession.builder.appName(\"Spark Lab!\").config(\n",
    "    \"spark.sql.broadcastTimeout\", \"3600\").config(     # Setting the timeout to be 1 Hour!\n",
    "    \"spark.driver.memory\", \"6G\").config(         # Setting the Spark Drive Memory to 6GB\n",
    "    \"spark.sql.autoBroadcastJoinThreshold\", \"-1\").getOrCreate()       # Disabling Broadcasting"
   ]
  },
  {
   "cell_type": "markdown",
   "metadata": {},
   "source": [
    "## Creating RDD from Parallelizing Collection!"
   ]
  },
  {
   "cell_type": "code",
   "execution_count": 13,
   "metadata": {},
   "outputs": [],
   "source": [
    "rdd_type_1 = sc.parallelize([(\"Machine Learning\", 100),\n",
    "                          (\"Deep Learning\", 100),\n",
    "                          (\"Data Science\", 100),\n",
    "                          (\"Big Data\", 100),\n",
    "                          (\"DevOps\", 100),\n",
    "                      (\"Machine Learning\", 100),\n",
    "                          (\"Deep Learning\", 100),\n",
    "                          (\"Data Science\", 100),\n",
    "                          (\"Big Data\", 100),\n",
    "                          (\"DevOps\", 100)]\n",
    "                     )"
   ]
  },
  {
   "cell_type": "code",
   "execution_count": 14,
   "metadata": {},
   "outputs": [
    {
     "data": {
      "text/plain": [
       "[('Machine Learning', 100),\n",
       " ('Deep Learning', 100),\n",
       " ('Data Science', 100),\n",
       " ('Big Data', 100),\n",
       " ('DevOps', 100),\n",
       " ('Machine Learning', 100),\n",
       " ('Deep Learning', 100),\n",
       " ('Data Science', 100),\n",
       " ('Big Data', 100),\n",
       " ('DevOps', 100)]"
      ]
     },
     "execution_count": 14,
     "metadata": {},
     "output_type": "execute_result"
    }
   ],
   "source": [
    "rdd_type_1.collect()"
   ]
  },
  {
   "cell_type": "markdown",
   "metadata": {},
   "source": [
    "### Applying Distinct function on rdd created from parallelizing the collection!"
   ]
  },
  {
   "cell_type": "code",
   "execution_count": 15,
   "metadata": {},
   "outputs": [
    {
     "data": {
      "text/plain": [
       "[('Machine Learning', 100),\n",
       " ('Deep Learning', 100),\n",
       " ('Data Science', 100),\n",
       " ('Big Data', 100),\n",
       " ('DevOps', 100)]"
      ]
     },
     "execution_count": 15,
     "metadata": {},
     "output_type": "execute_result"
    }
   ],
   "source": [
    "rdd_type_1.distinct().collect()"
   ]
  },
  {
   "cell_type": "markdown",
   "metadata": {},
   "source": [
    "### Applying Filter function on rdd created from parallelizing the collection!"
   ]
  },
  {
   "cell_type": "code",
   "execution_count": 16,
   "metadata": {},
   "outputs": [
    {
     "data": {
      "text/plain": [
       "[('Data Science', 100), ('Data Science', 100)]"
      ]
     },
     "execution_count": 16,
     "metadata": {},
     "output_type": "execute_result"
    }
   ],
   "source": [
    "rdd_type_1.filter(lambda x: x[0] == \"Data Science\").collect()"
   ]
  },
  {
   "cell_type": "markdown",
   "metadata": {},
   "source": [
    "## Creating RDD from the external dataset (loaded from hdfs)!"
   ]
  },
  {
   "cell_type": "code",
   "execution_count": 20,
   "metadata": {},
   "outputs": [],
   "source": [
    "rdd_type_2 = spark.read.csv(\"2010-12-01.csv\").rdd"
   ]
  },
  {
   "cell_type": "markdown",
   "metadata": {},
   "source": [
    "### Applying Distinct function on rdd created from external dataset!"
   ]
  },
  {
   "cell_type": "code",
   "execution_count": 37,
   "metadata": {},
   "outputs": [
    {
     "data": {
      "text/plain": [
       "3065"
      ]
     },
     "execution_count": 37,
     "metadata": {},
     "output_type": "execute_result"
    }
   ],
   "source": [
    "rdd_type_2.distinct().count()"
   ]
  },
  {
   "cell_type": "code",
   "execution_count": 39,
   "metadata": {},
   "outputs": [
    {
     "data": {
      "text/plain": [
       "[Row(_c0='InvoiceNo', _c1='StockCode', _c2='Description', _c3='Quantity', _c4='InvoiceDate', _c5='UnitPrice', _c6='CustomerID', _c7='Country'),\n",
       " Row(_c0='536365', _c1='85123A', _c2='WHITE HANGING HEART T-LIGHT HOLDER', _c3='6', _c4='2010-12-01 08:26:00', _c5='2.55', _c6='17850.0', _c7='United Kingdom'),\n",
       " Row(_c0='536365', _c1='71053', _c2='WHITE METAL LANTERN', _c3='6', _c4='2010-12-01 08:26:00', _c5='3.39', _c6='17850.0', _c7='United Kingdom'),\n",
       " Row(_c0='536365', _c1='84406B', _c2='CREAM CUPID HEARTS COAT HANGER', _c3='8', _c4='2010-12-01 08:26:00', _c5='2.75', _c6='17850.0', _c7='United Kingdom'),\n",
       " Row(_c0='536365', _c1='84029G', _c2='KNITTED UNION FLAG HOT WATER BOTTLE', _c3='6', _c4='2010-12-01 08:26:00', _c5='3.39', _c6='17850.0', _c7='United Kingdom')]"
      ]
     },
     "execution_count": 39,
     "metadata": {},
     "output_type": "execute_result"
    }
   ],
   "source": [
    "rdd_type_2.take(5)"
   ]
  },
  {
   "cell_type": "markdown",
   "metadata": {},
   "source": [
    "### Applying Filter function on rdd created from external dataset!"
   ]
  },
  {
   "cell_type": "code",
   "execution_count": 46,
   "metadata": {},
   "outputs": [
    {
     "data": {
      "text/plain": [
       "5"
      ]
     },
     "execution_count": 46,
     "metadata": {},
     "output_type": "execute_result"
    }
   ],
   "source": [
    "rdd_type_2.filter(lambda x: x[2] == \"CREAM CUPID HEARTS COAT HANGER\").count()"
   ]
  },
  {
   "cell_type": "code",
   "execution_count": 47,
   "metadata": {},
   "outputs": [
    {
     "data": {
      "text/plain": [
       "[Row(_c0='536365', _c1='84406B', _c2='CREAM CUPID HEARTS COAT HANGER', _c3='8', _c4='2010-12-01 08:26:00', _c5='2.75', _c6='17850.0', _c7='United Kingdom'),\n",
       " Row(_c0='536373', _c1='84406B', _c2='CREAM CUPID HEARTS COAT HANGER', _c3='8', _c4='2010-12-01 09:02:00', _c5='2.75', _c6='17850.0', _c7='United Kingdom'),\n",
       " Row(_c0='536375', _c1='84406B', _c2='CREAM CUPID HEARTS COAT HANGER', _c3='8', _c4='2010-12-01 09:32:00', _c5='2.75', _c6='17850.0', _c7='United Kingdom'),\n",
       " Row(_c0='536396', _c1='84406B', _c2='CREAM CUPID HEARTS COAT HANGER', _c3='8', _c4='2010-12-01 10:51:00', _c5='2.75', _c6='17850.0', _c7='United Kingdom'),\n",
       " Row(_c0='536406', _c1='84406B', _c2='CREAM CUPID HEARTS COAT HANGER', _c3='8', _c4='2010-12-01 11:33:00', _c5='2.75', _c6='17850.0', _c7='United Kingdom')]"
      ]
     },
     "execution_count": 47,
     "metadata": {},
     "output_type": "execute_result"
    }
   ],
   "source": [
    "rdd_type_2.filter(lambda x: x[2] == \"CREAM CUPID HEARTS COAT HANGER\").collect()"
   ]
  },
  {
   "cell_type": "markdown",
   "metadata": {},
   "source": [
    "## Creating RDD from the existing RDD!"
   ]
  },
  {
   "cell_type": "code",
   "execution_count": 60,
   "metadata": {},
   "outputs": [],
   "source": [
    "rdd_type_3 = rdd_type_1.map(lambda x: (x[0][0], x))"
   ]
  },
  {
   "cell_type": "code",
   "execution_count": 61,
   "metadata": {},
   "outputs": [
    {
     "data": {
      "text/plain": [
       "[('M', ('Machine Learning', 100)),\n",
       " ('D', ('Deep Learning', 100)),\n",
       " ('D', ('Data Science', 100)),\n",
       " ('B', ('Big Data', 100)),\n",
       " ('D', ('DevOps', 100)),\n",
       " ('M', ('Machine Learning', 100)),\n",
       " ('D', ('Deep Learning', 100)),\n",
       " ('D', ('Data Science', 100)),\n",
       " ('B', ('Big Data', 100)),\n",
       " ('D', ('DevOps', 100))]"
      ]
     },
     "execution_count": 61,
     "metadata": {},
     "output_type": "execute_result"
    }
   ],
   "source": [
    "rdd_type_3.collect()"
   ]
  },
  {
   "cell_type": "markdown",
   "metadata": {},
   "source": [
    "### Applying Distinct function on rdd created from existing RDD!"
   ]
  },
  {
   "cell_type": "code",
   "execution_count": 63,
   "metadata": {},
   "outputs": [
    {
     "data": {
      "text/plain": [
       "[('M', ('Machine Learning', 100)),\n",
       " ('D', ('Deep Learning', 100)),\n",
       " ('D', ('Data Science', 100)),\n",
       " ('B', ('Big Data', 100)),\n",
       " ('D', ('DevOps', 100))]"
      ]
     },
     "execution_count": 63,
     "metadata": {},
     "output_type": "execute_result"
    }
   ],
   "source": [
    "rdd_type_3.distinct().collect()"
   ]
  },
  {
   "cell_type": "markdown",
   "metadata": {},
   "source": [
    "### Applying Filter function on rdd created from existing RDD!"
   ]
  },
  {
   "cell_type": "code",
   "execution_count": 65,
   "metadata": {},
   "outputs": [
    {
     "data": {
      "text/plain": [
       "[('M', ('Machine Learning', 100)), ('M', ('Machine Learning', 100))]"
      ]
     },
     "execution_count": 65,
     "metadata": {},
     "output_type": "execute_result"
    }
   ],
   "source": [
    "rdd_type_3.filter(lambda x: x[0] == \"M\").collect()"
   ]
  },
  {
   "cell_type": "markdown",
   "metadata": {},
   "source": [
    "# Lab Work Completed!"
   ]
  }
 ],
 "metadata": {
  "kernelspec": {
   "display_name": "Python 3",
   "language": "python",
   "name": "python3"
  },
  "language_info": {
   "codemirror_mode": {
    "name": "ipython",
    "version": 3
   },
   "file_extension": ".py",
   "mimetype": "text/x-python",
   "name": "python",
   "nbconvert_exporter": "python",
   "pygments_lexer": "ipython3",
   "version": "3.7.7"
  }
 },
 "nbformat": 4,
 "nbformat_minor": 4
}
